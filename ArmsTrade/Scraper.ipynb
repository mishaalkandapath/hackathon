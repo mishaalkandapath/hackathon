{
 "cells": [
  {
   "cell_type": "code",
   "execution_count": 9,
   "metadata": {},
   "outputs": [],
   "source": [
    "from selenium import webdriver\n",
    "from selenium.webdriver.common.by import By\n",
    "fp = webdriver.FirefoxProfile()\n",
    "fp.set_preference(\"browser.download.folderList\", 2)\n",
    "fp.set_preference(\"browser.download.manager.showWhenStarting\", False)\n",
    "fp.set_preference(\"browser.download.dir\", \"C:\\\\Users\\\\LiamDeaton\\\\Documents\\\\DATAProj\\\\ArmsTrade\\\\data\")\n",
    "fp.set_preference(\"browser.helperApps.neverAsk.saveToDisk\", \"application/vnd.ms-excel\")\n",
    "driver = webdriver.Firefox(firefox_profile=fp)\n",
    "import selenium.webdriver as webdriver\n",
    "import selenium.webdriver.support.ui as UI\n",
    "import contextlib\n",
    "\n",
    "driver.get(\"https://armstrade.sipri.org/armstrade/page/values.php\")"
   ]
  },
  {
   "cell_type": "code",
   "execution_count": 10,
   "metadata": {},
   "outputs": [],
   "source": [
    "values = []\n",
    "select = UI.Select(driver.find_element_by_xpath('//select[@name=\"country_code\"]'))\n",
    "\n",
    "for option in select.options:\n",
    "    values.append(option.get_attribute('value'))  \n",
    "\n",
    "values.remove(\"\")\n",
    "\n",
    "\n",
    "for val in values:\n",
    "    driver.get(\"https://armstrade.sipri.org/armstrade/page/values.php\")\n",
    "    driver.find_element_by_css_selector('[value = \"export\"]').click()\n",
    "    select = UI.Select(driver.find_element_by_xpath('//select[@name=\"country_code\"]'))\n",
    "    low = UI.Select(driver.find_element_by_xpath('//select[@name = \"low_year\"]'))\n",
    "    low.select_by_value(\"1970\")\n",
    "    select.select_by_value(val)\n",
    "    driver.find_element_by_css_selector('[value = \"Download\"]').click()"
   ]
  },
  {
   "cell_type": "code",
   "execution_count": null,
   "metadata": {},
   "outputs": [],
   "source": []
  }
 ],
 "metadata": {
  "kernelspec": {
   "display_name": "Python 3",
   "language": "python",
   "name": "python3"
  },
  "language_info": {
   "codemirror_mode": {
    "name": "ipython",
    "version": 3
   },
   "file_extension": ".py",
   "mimetype": "text/x-python",
   "name": "python",
   "nbconvert_exporter": "python",
   "pygments_lexer": "ipython3",
   "version": "3.8.3"
  }
 },
 "nbformat": 4,
 "nbformat_minor": 4
}
